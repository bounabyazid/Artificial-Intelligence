{
 "cells": [
  {
   "cell_type": "code",
   "execution_count": 1,
   "metadata": {},
   "outputs": [],
   "source": [
    "import numpy as np\n",
    "import matplotlib.pyplot as plt\n",
    "\n",
    "import gym\n",
    "import gym_maze"
   ]
  },
  {
   "cell_type": "code",
   "execution_count": null,
   "metadata": {},
   "outputs": [],
   "source": []
  },
  {
   "cell_type": "code",
   "execution_count": 13,
   "metadata": {},
   "outputs": [],
   "source": [
    "def get_action(env, Q, state, explore_rate):\n",
    "    \n",
    "    rand_action = env.action_space.sample()\n",
    "    \n",
    "    max_action = np.argmax(Q[state])\n",
    "    \n",
    "#     if set(Q[state])==set([0.0]):        \n",
    "#         max_action = env.action_space.sample()\n",
    "    \n",
    "    return int(np.random.choice([rand_action, max_action], 1, p=[explore_rate, 1 - explore_rate]))"
   ]
  },
  {
   "cell_type": "code",
   "execution_count": null,
   "metadata": {},
   "outputs": [],
   "source": []
  },
  {
   "cell_type": "code",
   "execution_count": 3,
   "metadata": {},
   "outputs": [],
   "source": [
    "def run_maze(env, explore_rate, learning_rate, discount):\n",
    "    Q = np.zeros((size, size, 4))\n",
    "    moves = []\n",
    "    \n",
    "    reward_dump = []\n",
    "    \n",
    "    trial = 0\n",
    "    \n",
    "    \n",
    "    while (len(set(reward_dump[abs(len(reward_dump)-4):len(reward_dump)])) != 1 or len(moves)<2):\n",
    "\n",
    "        trial = trial +1\n",
    "        \n",
    "        print(\"\\nTrial:\", trial)\n",
    "\n",
    "        env.reset()\n",
    "\n",
    "        state = (0, 0)\n",
    "\n",
    "        move = 0\n",
    "        \n",
    "        total_reward = 0\n",
    "\n",
    "        while True:\n",
    "\n",
    "            env.render()\n",
    "\n",
    "            action = get_action(env, Q, state, explore_rate)\n",
    "\n",
    "            observation, reward, done, info = env.step(action)\n",
    "\n",
    "            new_state = (observation[0], observation[1])\n",
    "\n",
    "            q_dash = max(Q[new_state])\n",
    "            \n",
    "            total_reward += reward\n",
    "\n",
    "            if SARSA:\n",
    "                new_action = get_action(env, Q, new_state, explore_rate)\n",
    "\n",
    "                q_dash = Q[new_state][new_action]\n",
    "\n",
    "\n",
    "            Q[state][action] += learning_rate * (reward + (discount * q_dash) - Q[state][action])\n",
    "\n",
    "            state = new_state\n",
    "            if done:\n",
    "                print(\"Reached Goal in\", move, \"moves\")\n",
    "                reward_dump.append(total_reward)\n",
    "                moves.append(move)\n",
    "                break\n",
    "\n",
    "            move += 1\n",
    "            \n",
    "    print(\"Converged in\", len(reward_dump), \"iterations\")\n",
    "    dump.append((moves, \"Size: \" + str(size) + \" | Explore Rate: \" + str(explore_rate) + \" | Learning Rate: \" + str(\n",
    "        learning_rate) + \" | Discount: \" + str(discount), \"SARSA: \"+str(SARSA),\"Iterations: \"+str(len(reward_dump))))\n",
    "    return Q"
   ]
  },
  {
   "cell_type": "code",
   "execution_count": null,
   "metadata": {},
   "outputs": [],
   "source": []
  },
  {
   "cell_type": "code",
   "execution_count": 4,
   "metadata": {},
   "outputs": [],
   "source": [
    "def test_model(env, Q):\n",
    "    env.reset()\n",
    "\n",
    "    state = (0, 0)\n",
    "\n",
    "    move = 0\n",
    "\n",
    "    while True:\n",
    "\n",
    "        env.render()\n",
    "\n",
    "        action = int(np.argmax(Q[state]))\n",
    "\n",
    "        observation, reward, done, info = env.step(action)\n",
    "\n",
    "        new_state = (observation[0], observation[1])\n",
    "\n",
    "        if True:\n",
    "            _ = int(np.argmax(Q[new_state]))\n",
    "\n",
    "            env.step(_)\n",
    "\n",
    "            env.step(action)\n",
    "\n",
    "        state = new_state\n",
    "\n",
    "        if done:\n",
    "            print(\"Reached Goal in\", move, \"moves\")\n",
    "            break\n",
    "\n",
    "        move += 1"
   ]
  },
  {
   "cell_type": "code",
   "execution_count": null,
   "metadata": {},
   "outputs": [],
   "source": []
  },
  {
   "cell_type": "code",
   "execution_count": 5,
   "metadata": {},
   "outputs": [],
   "source": [
    "def print_plots(dump):\n",
    "    for moves, title, SARSA, iterations in dump:\n",
    "        print(SARSA)\n",
    "        print(iterations)\n",
    "        plt.plot(moves)\n",
    "        plt.ylabel('Moves')\n",
    "        plt.xlabel('Trial')\n",
    "        plt.title(title)\n",
    "        plt.show()"
   ]
  },
  {
   "cell_type": "code",
   "execution_count": null,
   "metadata": {},
   "outputs": [],
   "source": []
  },
  {
   "cell_type": "code",
   "execution_count": null,
   "metadata": {},
   "outputs": [],
   "source": []
  },
  {
   "cell_type": "code",
   "execution_count": 6,
   "metadata": {},
   "outputs": [
    {
     "name": "stdout",
     "output_type": "stream",
     "text": [
      "pygame 1.9.5.dev0\n",
      "Hello from the pygame community. https://www.pygame.org/contribute.html\n",
      "\u001b[33mWARN: gym.spaces.Box autodetected dtype as <class 'numpy.float32'>. Please provide explicit dtype.\u001b[0m\n"
     ]
    }
   ],
   "source": [
    "size = 5\n",
    "\n",
    "env = gym.make(\"maze-random-\" + str(size) + \"x\" + str(size) + \"-v0\")\n",
    "\n",
    "dump = []"
   ]
  },
  {
   "cell_type": "code",
   "execution_count": null,
   "metadata": {},
   "outputs": [],
   "source": []
  },
  {
   "cell_type": "code",
   "execution_count": 14,
   "metadata": {
    "scrolled": true
   },
   "outputs": [
    {
     "name": "stdout",
     "output_type": "stream",
     "text": [
      "\n",
      "Trial: 1\n",
      "Reached Goal in 109 moves\n",
      "\n",
      "Trial: 2\n",
      "Reached Goal in 97 moves\n",
      "\n",
      "Trial: 3\n",
      "Reached Goal in 50 moves\n",
      "\n",
      "Trial: 4\n",
      "Reached Goal in 91 moves\n",
      "\n",
      "Trial: 5\n",
      "Reached Goal in 19 moves\n",
      "\n",
      "Trial: 6\n",
      "Reached Goal in 53 moves\n",
      "\n",
      "Trial: 7\n",
      "Reached Goal in 32 moves\n",
      "\n",
      "Trial: 8\n",
      "Reached Goal in 55 moves\n",
      "\n",
      "Trial: 9\n",
      "Reached Goal in 13 moves\n",
      "\n",
      "Trial: 10\n",
      "Reached Goal in 13 moves\n",
      "\n",
      "Trial: 11\n",
      "Reached Goal in 30 moves\n",
      "\n",
      "Trial: 12\n",
      "Reached Goal in 15 moves\n",
      "\n",
      "Trial: 13\n",
      "Reached Goal in 25 moves\n",
      "\n",
      "Trial: 14\n",
      "Reached Goal in 7 moves\n",
      "\n",
      "Trial: 15\n",
      "Reached Goal in 10 moves\n",
      "\n",
      "Trial: 16\n",
      "Reached Goal in 19 moves\n",
      "\n",
      "Trial: 17\n",
      "Reached Goal in 7 moves\n",
      "\n",
      "Trial: 18\n",
      "Reached Goal in 9 moves\n",
      "\n",
      "Trial: 19\n",
      "Reached Goal in 7 moves\n",
      "\n",
      "Trial: 20\n",
      "Reached Goal in 7 moves\n",
      "\n",
      "Trial: 21\n",
      "Reached Goal in 7 moves\n",
      "\n",
      "Trial: 22\n",
      "Reached Goal in 7 moves\n",
      "Converged in 22 iterations\n"
     ]
    }
   ],
   "source": [
    "SARSA = False\n",
    "Q = run_maze(env, 0.05, 0.3, 0.8)"
   ]
  },
  {
   "cell_type": "code",
   "execution_count": null,
   "metadata": {},
   "outputs": [],
   "source": []
  },
  {
   "cell_type": "code",
   "execution_count": 15,
   "metadata": {
    "scrolled": true
   },
   "outputs": [
    {
     "name": "stdout",
     "output_type": "stream",
     "text": [
      "\n",
      "Trial: 1\n",
      "Reached Goal in 153 moves\n",
      "\n",
      "Trial: 2\n",
      "Reached Goal in 64 moves\n",
      "\n",
      "Trial: 3\n",
      "Reached Goal in 78 moves\n",
      "\n",
      "Trial: 4\n",
      "Reached Goal in 77 moves\n",
      "\n",
      "Trial: 5\n",
      "Reached Goal in 46 moves\n",
      "\n",
      "Trial: 6\n",
      "Reached Goal in 36 moves\n",
      "\n",
      "Trial: 7\n",
      "Reached Goal in 24 moves\n",
      "\n",
      "Trial: 8\n",
      "Reached Goal in 61 moves\n",
      "\n",
      "Trial: 9\n",
      "Reached Goal in 12 moves\n",
      "\n",
      "Trial: 10\n",
      "Reached Goal in 7 moves\n",
      "\n",
      "Trial: 11\n",
      "Reached Goal in 33 moves\n",
      "\n",
      "Trial: 12\n",
      "Reached Goal in 15 moves\n",
      "\n",
      "Trial: 13\n",
      "Reached Goal in 26 moves\n",
      "\n",
      "Trial: 14\n",
      "Reached Goal in 9 moves\n",
      "\n",
      "Trial: 15\n",
      "Reached Goal in 10 moves\n",
      "\n",
      "Trial: 16\n",
      "Reached Goal in 7 moves\n",
      "\n",
      "Trial: 17\n",
      "Reached Goal in 8 moves\n",
      "\n",
      "Trial: 18\n",
      "Reached Goal in 8 moves\n",
      "\n",
      "Trial: 19\n",
      "Reached Goal in 8 moves\n",
      "\n",
      "Trial: 20\n",
      "Reached Goal in 7 moves\n",
      "\n",
      "Trial: 21\n",
      "Reached Goal in 7 moves\n",
      "\n",
      "Trial: 22\n",
      "Reached Goal in 7 moves\n",
      "\n",
      "Trial: 23\n",
      "Reached Goal in 8 moves\n",
      "\n",
      "Trial: 24\n",
      "Reached Goal in 7 moves\n",
      "\n",
      "Trial: 25\n",
      "Reached Goal in 7 moves\n",
      "\n",
      "Trial: 26\n",
      "Reached Goal in 7 moves\n",
      "\n",
      "Trial: 27\n",
      "Reached Goal in 7 moves\n",
      "Converged in 27 iterations\n"
     ]
    }
   ],
   "source": [
    "SARSA = True\n",
    "Q = run_maze(env, 0.05, 0.3, 0.8)"
   ]
  },
  {
   "cell_type": "code",
   "execution_count": null,
   "metadata": {},
   "outputs": [],
   "source": []
  },
  {
   "cell_type": "code",
   "execution_count": 9,
   "metadata": {
    "scrolled": true
   },
   "outputs": [],
   "source": [
    "# dump"
   ]
  },
  {
   "cell_type": "code",
   "execution_count": null,
   "metadata": {},
   "outputs": [],
   "source": []
  },
  {
   "cell_type": "code",
   "execution_count": 10,
   "metadata": {},
   "outputs": [
    {
     "name": "stdout",
     "output_type": "stream",
     "text": [
      "SARSA: False\n",
      "Iterations: 25\n"
     ]
    },
    {
     "data": {
      "image/png": "[encoded data removed]",
      "text/plain": [
       "<Figure size 432x288 with 1 Axes>"
      ]
     },
     "metadata": {
      "needs_background": "light"
     },
     "output_type": "display_data"
    },
    {
     "name": "stdout",
     "output_type": "stream",
     "text": [
      "SARSA: True\n",
      "Iterations: 28\n"
     ]
    },
    {
     "data": {
      "image/png": "[encoded data removed]",
      "text/plain": [
       "<Figure size 432x288 with 1 Axes>"
      ]
     },
     "metadata": {
      "needs_background": "light"
     },
     "output_type": "display_data"
    }
   ],
   "source": [
    "print_plots(dump)"
   ]
  },
  {
   "cell_type": "code",
   "execution_count": null,
   "metadata": {},
   "outputs": [],
   "source": []
  },
  {
   "cell_type": "code",
   "execution_count": null,
   "metadata": {},
   "outputs": [],
   "source": []
  },
  {
   "cell_type": "code",
   "execution_count": 11,
   "metadata": {},
   "outputs": [
    {
     "data": {
      "text/plain": [
       "array([[[-0.01205767,  0.01691084, -0.01190331, -0.01205767],\n",
       "        [-0.01079198,  0.03834919, -0.0110527 , -0.01079796],\n",
       "        [-0.00902601, -0.0092277 ,  0.08568321, -0.00927809],\n",
       "        [-0.002328  , -0.002328  , -0.0012    , -0.0012    ],\n",
       "        [-0.00204   , -0.002328  , -0.00259872, -0.002328  ]],\n",
       "\n",
       "       [[-0.01158954, -0.01143113, -0.01158954, -0.01169492],\n",
       "        [-0.0108652 , -0.01046591, -0.01061371, -0.01048159],\n",
       "        [-0.00780862,  0.23101638, -0.00780862, -0.00817352],\n",
       "        [-0.00611943, -0.0062026 ,  0.35158284, -0.0062026 ],\n",
       "        [-0.002328  , -0.002328  , -0.0027312 , -0.00204   ]],\n",
       "\n",
       "       [[-0.0062026 , -0.0062026 , -0.00624803, -0.0062026 ],\n",
       "        [-0.00987404, -0.00988915, -0.00987404, -0.00939867],\n",
       "        [-0.00855159, -0.0085401 , -0.008     , -0.0085401 ],\n",
       "        [-0.00438502,  0.50985546,  0.06909225, -0.00378392],\n",
       "        [-0.002328  , -0.002328  ,  0.73499952, -0.00204   ]],\n",
       "\n",
       "       [[-0.00532192, -0.00606498, -0.00603516, -0.00604195],\n",
       "        [-0.0055236 , -0.00592817,  0.06876069, -0.00554678],\n",
       "        [ 0.00533848, -0.00760994, -0.00703045, -0.00716752],\n",
       "        [ 0.        ,  0.        ,  0.        ,  0.        ],\n",
       "        [-0.0012    ,  0.23716241,  0.99944145,  0.01460928]],\n",
       "\n",
       "       [[-0.0062026 , -0.0062026 , -0.0062026 , -0.00640612],\n",
       "        [-0.00438502,  0.23691237, -0.00438502, -0.00393886],\n",
       "        [ 0.02056262,  0.53269683, -0.002328  ,  0.06324535],\n",
       "        [-0.0012    ,  0.9176457 , -0.0012    ,  0.        ],\n",
       "        [ 0.        ,  0.        ,  0.        ,  0.        ]]])"
      ]
     },
     "execution_count": 11,
     "metadata": {},
     "output_type": "execute_result"
    }
   ],
   "source": [
    "Q"
   ]
  },
  {
   "cell_type": "code",
   "execution_count": null,
   "metadata": {},
   "outputs": [],
   "source": []
  },
  {
   "cell_type": "code",
   "execution_count": null,
   "metadata": {},
   "outputs": [],
   "source": []
  },
  {
   "cell_type": "code",
   "execution_count": 12,
   "metadata": {
    "scrolled": true
   },
   "outputs": [
    {
     "name": "stdout",
     "output_type": "stream",
     "text": [
      "Reached Goal in 4 moves\n"
     ]
    }
   ],
   "source": [
    "test_model(env, Q)"
   ]
  },
  {
   "cell_type": "code",
   "execution_count": null,
   "metadata": {},
   "outputs": [],
   "source": []
  },
  {
   "cell_type": "code",
   "execution_count": null,
   "metadata": {},
   "outputs": [],
   "source": []
  },
  {
   "cell_type": "code",
   "execution_count": null,
   "metadata": {},
   "outputs": [],
   "source": []
  }
 ],
 "metadata": {
  "kernelspec": {
   "display_name": "Python 3",
   "language": "python",
   "name": "python3"
  },
  "language_info": {
   "codemirror_mode": {
    "name": "ipython",
    "version": 3
   },
   "file_extension": ".py",
   "mimetype": "text/x-python",
   "name": "python",
   "nbconvert_exporter": "python",
   "pygments_lexer": "ipython3",
   "version": "3.7.0"
  }
 },
 "nbformat": 4,
 "nbformat_minor": 2
}
